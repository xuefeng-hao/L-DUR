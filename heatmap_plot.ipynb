{
  "nbformat": 4,
  "nbformat_minor": 0,
  "metadata": {
    "colab": {
      "name": "Untitled0.ipynb",
      "provenance": [],
      "mount_file_id": "1hoAZJbyogNCOJAGuio2Jf9Y7CmfzrsKd",
      "authorship_tag": "ABX9TyM87Hxh3h/R8ZPOiUGZgfuj",
      "include_colab_link": true
    },
    "kernelspec": {
      "name": "python3",
      "display_name": "Python 3"
    }
  },
  "cells": [
    {
      "cell_type": "markdown",
      "metadata": {
        "id": "view-in-github",
        "colab_type": "text"
      },
      "source": [
        "<a href=\"https://colab.research.google.com/github/xuefeng-hao/L-DUR/blob/main/heatmap_plot.ipynb\" target=\"_parent\"><img src=\"https://colab.research.google.com/assets/colab-badge.svg\" alt=\"Open In Colab\"/></a>"
      ]
    },
    {
      "cell_type": "code",
      "metadata": {
        "id": "2ZaEY1ngHBYo",
        "colab": {
          "base_uri": "https://localhost:8080/",
          "height": 350
        },
        "outputId": "dfb1df3f-fcf5-4f64-c0cb-13ef83bba044"
      },
      "source": [
        "import csv\n",
        "import matplotlib.pyplot as plt\n",
        "\n",
        "class plot:\n",
        "  def write_csv(self,csv_file):\n",
        "    rows = [['event','start time','duration'],['play',0,3],['stop',3,0],['resum',3,2],['seek',10,5],['finish',15,2]]\n",
        "    with open(csv_file,'w') as f:\n",
        "      writer = csv.writer(f)\n",
        "      writer.writerows(rows)\n",
        "  def plot_event(self,csv_file):\n",
        "    with open(csv_file,'r') as f:\n",
        "      reader = csv.reader(f)\n",
        "      header = next(reader)\n",
        "      n = 1\n",
        "      for row in reader:\n",
        "        row[1]=int(row[1])\n",
        "        \n",
        "        plt.plot([row[1],row[2]+row[1]],[n,n])\n",
        "        plt.annotate(row[0],xy=(row[1],n))\n",
        "        n +=1\n",
        "      plt.yticks(range(0, n, 1))\n",
        "      plt.show()\n",
        "p = plot()\n",
        "p.write_csv('data_video.csv')\n",
        "p.plot_event('data_video.csv')\n"
      ],
      "execution_count": 6,
      "outputs": [
        {
          "output_type": "stream",
          "text": [
            "<class 'str'>\n",
            "<class 'str'>\n",
            "<class 'str'>\n",
            "<class 'str'>\n",
            "<class 'str'>\n"
          ],
          "name": "stdout"
        },
        {
          "output_type": "display_data",
          "data": {
            "image/png": "[encoded data removed]",
            "text/plain": [
              "<Figure size 432x288 with 1 Axes>"
            ]
          },
          "metadata": {
            "tags": [],
            "needs_background": "light"
          }
        }
      ]
    },
    {
      "cell_type": "code",
      "metadata": {
        "colab": {
          "base_uri": "https://localhost:8080/",
          "height": 514
        },
        "id": "nrCqHCtZdf3w",
        "outputId": "24e1e3b4-f677-44cd-9e7b-acc4321b5beb"
      },
      "source": [
        "import csv\n",
        "import numpy as np\n",
        "import matplotlib.pyplot as plt\n",
        "import pandas as pd\n",
        "import seaborn as sns\n",
        "import matplotlib as mpl\n",
        "%matplotlib inline\n",
        "\n",
        "\n",
        "class plot:\n",
        "  def write_csv(self,csv_file):\n",
        "    rows = [['event','start time','duration',],['play',0,3],['stop',3,0],['resum',3,2],['seek',11,4],['finish',15,0],['play',0,15],['seek',1,11]]\n",
        "    with open(csv_file,'w') as f:\n",
        "      writer = csv.writer(f)\n",
        "      writer.writerows(rows)\n",
        "  def plot_event(self,csv_file):\n",
        "    with open(csv_file,'r') as f:\n",
        "      reader = csv.reader(f)\n",
        "      header = next(reader)\n",
        "      n = 1\n",
        "      for row in reader:\n",
        "        row[1]=int(row[1])\n",
        "        row[2]=int(row[2])\n",
        "        print(row[0])\n",
        "        if row[0] in ['stop','finish']:\n",
        "          print(n)\n",
        "          plt.plot(row[1],n,'om')\n",
        "        else:\n",
        "          plt.plot([row[1],row[2]+row[1]],[n,n])\n",
        "        plt.annotate(row[0],xy=(row[1],n))\n",
        "        n +=1\n",
        "      plt.yticks(range(0, n, 1))\n",
        "      plt.xticks(range(0, 16, 1))\n",
        "      plt.savefig('event_plot.jpg')\n",
        "      plt.show()\n",
        "  def plot_hist(self,csv_file):\n",
        "    with open(csv_file,'r') as f:\n",
        "      reader = csv.reader(f)\n",
        "      header = next(reader)\n",
        "      video_lang = 15\n",
        "      bin = video_lang\n",
        "      video_resolution = video_lang/bin\n",
        "      data = [0]*bin\n",
        "      for row in reader:\n",
        "        if row[0] not in ['stop','finish']:\n",
        "          index1 = int(int(row[1])/video_resolution)\n",
        "          index2 = int(int(row[2])/video_resolution)+index1\n",
        "\n",
        "          for i in range(index1,index2):\n",
        "            data[i]+=1\n",
        "      x_ax = np.linspace(0, 15, num=15)\n",
        "      plt.bar(x_ax,data)\n",
        "      plt.xticks(range(0, 16, 1))\n",
        "      plt.show()\n",
        "  def plot_heatmap(self): \n",
        "    columns = ['bin1','bin2','bin3','bin4','bin5','bin6','bin7','bin8','bin9','bin10']\n",
        "    index = ['8-9Uhr','9-10Uhr','10-11Uhr', '11-12Uhr', '12-13Uhr', '13-14Uhr', '14-15Uhr',\n",
        " '15-16Uhr', '16-17Uhr', '17-18Uhr', '18-19Uhr', '19-20Uhr', '20-21Uhr']\n",
        "    data_heat = np.array([\n",
        "                [1,2,2,4,4,2,1,1,1,1],\n",
        "                [0,0,0,0,0,0,0,0,0,0],\n",
        "                [0,0,0,0,0,0,0,0,0,0],\n",
        "                [0,0,0,0,0,0,0,0,0,0],\n",
        "                [0,0,0,0,0,0,0,0,0,0],\n",
        "                [0,0,0,0,0,0,0,0,0,0],\n",
        "                [0,0,0,0,0,0,0,0,0,0],\n",
        "                [1,2,2,2,1,1,1,1,1,1],\n",
        "                [0,0,0,0,0,0,0,0,0,0],\n",
        "                [0,0,0,0,0,0,0,0,0,0],\n",
        "                [0,0,0,0,0,0,0,0,0,0],\n",
        "                [0,0,0,0,0,0,0,0,0,0],\n",
        "                [0,0,0,0,0,0,0,0,0,0]])\n",
        "    data_heat_pd = pd.DataFrame(data=data_heat,\n",
        "                        index=index,\n",
        "                        columns=columns)\n",
        " \n",
        "    print(data_heat)\n",
        "    sns.set(style='whitegrid', color_codes=True)\n",
        "    sns.heatmap(data_heat_pd,annot=True)\n",
        "    #sns.set_xticklabels(ax.get_xticklabels(), rotation=-90)\n",
        "\n",
        "p = plot()\n",
        "#p.write_csv('data_video.csv')\n",
        "#p.plot_event('data_video.csv')\n",
        "#p.plot_hist('data_video.csv')\n",
        "p.plot_heatmap()\n",
        "\n"
      ],
      "execution_count": 24,
      "outputs": [
        {
          "output_type": "stream",
          "text": [
            "[[1 2 2 4 4 2 1 1 1 1]\n",
            " [0 0 0 0 0 0 0 0 0 0]\n",
            " [0 0 0 0 0 0 0 0 0 0]\n",
            " [0 0 0 0 0 0 0 0 0 0]\n",
            " [0 0 0 0 0 0 0 0 0 0]\n",
            " [0 0 0 0 0 0 0 0 0 0]\n",
            " [0 0 0 0 0 0 0 0 0 0]\n",
            " [1 2 2 2 1 1 1 1 1 1]\n",
            " [0 0 0 0 0 0 0 0 0 0]\n",
            " [0 0 0 0 0 0 0 0 0 0]\n",
            " [0 0 0 0 0 0 0 0 0 0]\n",
            " [0 0 0 0 0 0 0 0 0 0]\n",
            " [0 0 0 0 0 0 0 0 0 0]]\n"
          ],
          "name": "stdout"
        },
        {
          "output_type": "display_data",
          "data": {
            "image/png": "[encoded data removed]",
            "text/plain": [
              "<Figure size 432x288 with 2 Axes>"
            ]
          },
          "metadata": {
            "tags": []
          }
        }
      ]
    },
    {
      "cell_type": "code",
      "metadata": {
        "id": "mnavIYJ4QOfA"
      },
      "source": [
        ""
      ],
      "execution_count": null,
      "outputs": []
    }
  ]
}